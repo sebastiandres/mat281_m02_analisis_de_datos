{
 "cells": [
  {
   "cell_type": "markdown",
   "metadata": {
    "slideshow": {
     "slide_type": "slide"
    }
   },
   "source": [
    "# MAT281\n",
    "\n",
    "## Aplicaciones de la Matemática en la Ingeniería\n",
    "\n",
    "Puedes ejecutar este jupyter notebook de manera interactiva:\n",
    "\n",
    "[![Binder](../shared/images/jupyter_binder.png)](https://mybinder.org/v2/gh/sebastiandres/mat281_m02_introduccion/master?filepath=05_analisis_datos/05_analisis_datos.ipynb)\n",
    "\n",
    "[![Colab](../shared/images/jupyter_colab.png)](https://colab.research.google.com/github/sebastiandres/mat281_m02_analisis_datos/blob/master//05_analisis/05_analisis.ipynb)"
   ]
  },
  {
   "cell_type": "markdown",
   "metadata": {
    "slideshow": {
     "slide_type": "slide"
    }
   },
   "source": [
    "## ¿Qué contenido aprenderemos?\n",
    "* Exploración de datos.\n",
    "* Eliminando datos.\n",
    "* Agrupando datos en pandas."
   ]
  },
  {
   "cell_type": "markdown",
   "metadata": {
    "slideshow": {
     "slide_type": "slide"
    }
   },
   "source": [
    "## ¿Porqué aprenderemos eso?"
   ]
  },
  {
   "cell_type": "markdown",
   "metadata": {
    "slideshow": {
     "slide_type": "fragment"
    }
   },
   "source": [
    "**1**. Complementa las otras tareas aprendidas: cargar datos de diversos formatos, pivotear tablas, usar merges, realizar SQL queries."
   ]
  },
  {
   "cell_type": "markdown",
   "metadata": {
    "slideshow": {
     "slide_type": "fragment"
    }
   },
   "source": [
    "**2**. Resultan funcionalidades extremadamente comunes en la exploración de datos."
   ]
  },
  {
   "cell_type": "markdown",
   "metadata": {
    "slideshow": {
     "slide_type": "slide"
    }
   },
   "source": [
    "## ¿Cómo lo aprenderemos?\n",
    "\n",
    "Tomaremos un set de datos interesante para trabajar: el ejemplo de [Zoo Data Set](http://archive.ics.uci.edu/ml/datasets/zoo) creado por Richard Forsyth, que revisamos en una clase anterior y de la cual no sacamos la mayor información."
   ]
  },
  {
   "cell_type": "code",
   "execution_count": null,
   "metadata": {},
   "outputs": [],
   "source": [
    "%ls data/"
   ]
  },
  {
   "cell_type": "code",
   "execution_count": null,
   "metadata": {
    "slideshow": {
     "slide_type": "slide"
    }
   },
   "outputs": [],
   "source": [
    "%cat data/zoo.names"
   ]
  },
  {
   "cell_type": "code",
   "execution_count": null,
   "metadata": {
    "slideshow": {
     "slide_type": "slide"
    }
   },
   "outputs": [],
   "source": [
    "import pandas as pd\n",
    "import os\n",
    "df = pd.read_csv(os.path.join(\"data\",\"zoo.data\"), sep=\";\")\n",
    "df.head()"
   ]
  },
  {
   "cell_type": "markdown",
   "metadata": {
    "slideshow": {
     "slide_type": "fragment"
    }
   },
   "source": [
    "¿Que pasó?"
   ]
  },
  {
   "cell_type": "markdown",
   "metadata": {
    "slideshow": {
     "slide_type": "fragment"
    }
   },
   "source": [
    "¡Por eso siempre conviene mirar **bien** los archivos antes de abrirlos!"
   ]
  },
  {
   "cell_type": "code",
   "execution_count": null,
   "metadata": {
    "slideshow": {
     "slide_type": "slide"
    }
   },
   "outputs": [],
   "source": [
    "%cat data/zoo.data"
   ]
  },
  {
   "cell_type": "code",
   "execution_count": null,
   "metadata": {
    "slideshow": {
     "slide_type": "slide"
    }
   },
   "outputs": [],
   "source": [
    "import pandas as pd\n",
    "import os\n",
    "my_cols = [\"animal_name\", \"hair\", \"feathers\", \"eggs\", \"milk\", \n",
    "           \"airborne\", \"aquatic\", \"predator\", \"toothed\", \"backbone\", \n",
    "           \"breathes\", \"venomous\", \"fins\", \"legs\", \"tail\", \"domestic\", \n",
    "           \"catsize\", \"type\"]\n",
    "\n",
    "df = pd.read_csv(os.path.join(\"data\",\"zoo.data\"), header=None, names=my_cols, sep=\",\")\n",
    "df.head()"
   ]
  },
  {
   "cell_type": "markdown",
   "metadata": {
    "slideshow": {
     "slide_type": "slide"
    }
   },
   "source": [
    "Como ya debería ser conocido, el método `describe` nos entrega un útil resumen de la información:"
   ]
  },
  {
   "cell_type": "code",
   "execution_count": null,
   "metadata": {
    "slideshow": {
     "slide_type": "-"
    }
   },
   "outputs": [],
   "source": [
    "df.describe()"
   ]
  },
  {
   "cell_type": "markdown",
   "metadata": {
    "slideshow": {
     "slide_type": "slide"
    }
   },
   "source": [
    "Para tener más información, es posible indicar que se incluyan todas la columnas (numéricas y no numéricas):"
   ]
  },
  {
   "cell_type": "code",
   "execution_count": null,
   "metadata": {
    "slideshow": {
     "slide_type": "-"
    }
   },
   "outputs": [],
   "source": [
    "df.describe(include=\"all\")"
   ]
  },
  {
   "cell_type": "markdown",
   "metadata": {
    "slideshow": {
     "slide_type": "slide"
    }
   },
   "source": [
    "Personalmente, siempre ejecuto el comando de la siguiente manera:\n",
    "\n",
    "```python\n",
    "df.describe(include=\"all\").fillna(\"\").T\n",
    "```"
   ]
  },
  {
   "cell_type": "markdown",
   "metadata": {
    "slideshow": {
     "slide_type": "fragment"
    }
   },
   "source": [
    "* Incluye todas las columnas en el análisis.\n",
    "* Reemplaza los nans por strings vacíos para facilitar lectura.\n",
    "* Pivotea el resultado para poder mirar todas las columnas fácilmente."
   ]
  },
  {
   "cell_type": "code",
   "execution_count": null,
   "metadata": {
    "slideshow": {
     "slide_type": "slide"
    }
   },
   "outputs": [],
   "source": [
    "df.describe(include=\"all\").fillna(\"\").T"
   ]
  },
  {
   "cell_type": "markdown",
   "metadata": {
    "slideshow": {
     "slide_type": "slide"
    }
   },
   "source": [
    "Observamos que el animal \"frog\" viene en 2 ocasiones. \n",
    "\n",
    "En efecto, lo dice en la descripción del dataset. Una vez más, ¡conviene leer las condiciones en las que viene el dataset!"
   ]
  },
  {
   "cell_type": "code",
   "execution_count": null,
   "metadata": {},
   "outputs": [],
   "source": [
    "df[df.animal_name==\"frog\"]"
   ]
  },
  {
   "cell_type": "markdown",
   "metadata": {
    "slideshow": {
     "slide_type": "slide"
    }
   },
   "source": [
    "### Eliminando datos\n",
    "\n",
    "Para eliminar filas específicas existen varias formas, de la cual conviene elegir la más sencilla según el contexto:\n",
    "1. `drop_duplicates`\n",
    "2. `drop`\n",
    "3. Máscaras y relaciones booleanas."
   ]
  },
  {
   "cell_type": "markdown",
   "metadata": {
    "slideshow": {
     "slide_type": "slide"
    }
   },
   "source": [
    "1.- El problema anterior se puede resolver de manera sencilla utilizando el método `drop_duplicates` que elimina las columnas que son idénticas."
   ]
  },
  {
   "cell_type": "code",
   "execution_count": null,
   "metadata": {},
   "outputs": [],
   "source": [
    "df2 = df.drop_duplicates()\n",
    "df2[20:30]"
   ]
  },
  {
   "cell_type": "markdown",
   "metadata": {
    "slideshow": {
     "slide_type": "slide"
    }
   },
   "source": [
    "El caso anterior no funciona porque las filas no son perfectamente idénticas. En efecto, difieren en si son venenosas o no. Podemos pasarle más argumentos a drop_duplicates para lograr el objetivo."
   ]
  },
  {
   "cell_type": "code",
   "execution_count": null,
   "metadata": {},
   "outputs": [],
   "source": [
    "col_subset = [\"animal_name\", \"hair\", \"feathers\"]\n",
    "df2 = df.drop_duplicates(subset=col_subset)\n",
    "df2[20:30]"
   ]
  },
  {
   "cell_type": "markdown",
   "metadata": {
    "slideshow": {
     "slide_type": "slide"
    }
   },
   "source": [
    "Si prestamos cuidadosa atención, observaremos que la indexación no ha cambiado, y que simplemente se han saltado el número 26. Si deseamos que la indexación sea re-enumerada, es posible utilizar el método `reset_index`. "
   ]
  },
  {
   "cell_type": "code",
   "execution_count": null,
   "metadata": {},
   "outputs": [],
   "source": [
    "col_subset = [\"animal_name\", \"hair\", \"feathers\"]\n",
    "df2 = df.drop_duplicates(subset=col_subset).reset_index()\n",
    "df2[20:30]"
   ]
  },
  {
   "cell_type": "markdown",
   "metadata": {
    "slideshow": {
     "slide_type": "slide"
    }
   },
   "source": [
    "2.- Si queremos eliminar algunas filas específicas que conocemos por su numeración, podemos utilizar el método `drop`:"
   ]
  },
  {
   "cell_type": "code",
   "execution_count": null,
   "metadata": {},
   "outputs": [],
   "source": [
    "df2 = df.drop(index=26)\n",
    "df2[20:30]"
   ]
  },
  {
   "cell_type": "code",
   "execution_count": null,
   "metadata": {
    "slideshow": {
     "slide_type": "slide"
    }
   },
   "outputs": [],
   "source": [
    "df2 = df.drop(index=26).reset_index()\n",
    "df2[20:30]"
   ]
  },
  {
   "cell_type": "markdown",
   "metadata": {
    "slideshow": {
     "slide_type": "slide"
    }
   },
   "source": [
    "El método `drop` también permite eliminar columnas:"
   ]
  },
  {
   "cell_type": "code",
   "execution_count": null,
   "metadata": {},
   "outputs": [],
   "source": [
    "df2 = df.drop(columns=[\"domestic\", \"catsize\", \"type\"])\n",
    "df2[20:30]"
   ]
  },
  {
   "cell_type": "markdown",
   "metadata": {
    "slideshow": {
     "slide_type": "slide"
    }
   },
   "source": [
    "### 3. Usando máscaras (masks) y relaciones booleandas\n",
    "\n",
    "Se denomina máscaras (masks) a listas con elementos booleanos del mismo tamaño del arreglo o DataFrame original. Su uso resulta común en algorítmica y numpy, y también se extienden a los Dataframes."
   ]
  },
  {
   "cell_type": "code",
   "execution_count": null,
   "metadata": {
    "slideshow": {
     "slide_type": "slide"
    }
   },
   "outputs": [],
   "source": [
    "Por ejemplo, si quisiéramos eliminar todos los animales de tipo que son acuáticos **o** tienen veneno, haríamos:"
   ]
  },
  {
   "cell_type": "code",
   "execution_count": null,
   "metadata": {},
   "outputs": [],
   "source": [
    "# Mascara booleana con True para animales acuáticos\n",
    "m_aquatic = df.aquatic == 1   \n",
    "# Máscara booleana con True para animales venenosos\n",
    "m_venomous = df.venomous == 1 \n",
    "# Mascara booleana deseada\n",
    "m = pd.np.logical_not(pd.np.logical_or(m_aquatic, m_venomous))\n",
    "# Subselección\n",
    "df[m]"
   ]
  },
  {
   "cell_type": "markdown",
   "metadata": {
    "slideshow": {
     "slide_type": "slide"
    }
   },
   "source": [
    "**Pregunta**:\n",
    "    \n",
    "¿Cómo podríamos obtener el subconjunto de animales que tiene 2 patas y plumas, y es de tamaño de similar a un gato?"
   ]
  },
  {
   "cell_type": "code",
   "execution_count": null,
   "metadata": {
    "slideshow": {
     "slide_type": "slide"
    }
   },
   "outputs": [],
   "source": [
    "# ?"
   ]
  },
  {
   "cell_type": "code",
   "execution_count": null,
   "metadata": {
    "slideshow": {
     "slide_type": "slide"
    }
   },
   "outputs": [],
   "source": [
    "# Respuesta\n",
    "m_2_legs = df.legs==2\n",
    "m_has_feathers = df.feathers==1\n",
    "m_catsize = df.catsize==1\n",
    "m = pd.np.logical_and(pd.np.logical_and(m_2_legs, m_has_feathers), m_catsize)\n",
    "df[m]"
   ]
  },
  {
   "cell_type": "markdown",
   "metadata": {
    "slideshow": {
     "slide_type": "slide"
    }
   },
   "source": [
    "## Agrupando datos\n",
    "Para agrupar y obtener estadísticas de los grupos generados usaremos el método `groupby`, que puede resultar un poco complejo pues tiene diversas formas de utilización.\n",
    "\n",
    "Consideremos el caso de la columna \"domestic\" que puede tener únicamente valores `0` o `1`:"
   ]
  },
  {
   "cell_type": "code",
   "execution_count": null,
   "metadata": {},
   "outputs": [],
   "source": [
    "df.domestic.unique()"
   ]
  },
  {
   "cell_type": "markdown",
   "metadata": {
    "slideshow": {
     "slide_type": "slide"
    }
   },
   "source": [
    "Al agrupar utilizando `groupby` obtenemos lo siguiente:"
   ]
  },
  {
   "cell_type": "code",
   "execution_count": null,
   "metadata": {},
   "outputs": [],
   "source": [
    "dg = df.groupby(\"domestic\")"
   ]
  },
  {
   "cell_type": "code",
   "execution_count": null,
   "metadata": {},
   "outputs": [],
   "source": [
    "type(dg)"
   ]
  },
  {
   "cell_type": "code",
   "execution_count": null,
   "metadata": {},
   "outputs": [],
   "source": [
    "len(dg)"
   ]
  },
  {
   "cell_type": "markdown",
   "metadata": {
    "slideshow": {
     "slide_type": "slide"
    }
   },
   "source": [
    "Sin embargo, no es posible acceder directamente a los elementos"
   ]
  },
  {
   "cell_type": "code",
   "execution_count": null,
   "metadata": {},
   "outputs": [],
   "source": [
    "dg[0]"
   ]
  },
  {
   "cell_type": "markdown",
   "metadata": {
    "slideshow": {
     "slide_type": "slide"
    }
   },
   "source": [
    "Lo que se ha generado es una partición del dataframe original, agrupando sobre los posibles valores de la columna \"domestic\".\n",
    "\n",
    "Ahora es posible realizar diversos tipos de preguntas sobre dichas particiones. \n",
    "\n",
    "Por ejemplo, ¿Cuántos elementos tienen los grupos \"domésticos\" y \"no domésticos\"?"
   ]
  },
  {
   "cell_type": "code",
   "execution_count": null,
   "metadata": {},
   "outputs": [],
   "source": [
    "dg.animal_name.count()"
   ]
  },
  {
   "cell_type": "code",
   "execution_count": null,
   "metadata": {},
   "outputs": [],
   "source": [
    "dg.feathers.count()"
   ]
  },
  {
   "cell_type": "markdown",
   "metadata": {
    "slideshow": {
     "slide_type": "slide"
    }
   },
   "source": [
    "También es posible obtener otro tipo de estadísticas: \n",
    "mean, median, min, max, sum, describe, count/size."
   ]
  },
  {
   "cell_type": "code",
   "execution_count": null,
   "metadata": {},
   "outputs": [],
   "source": [
    "dg.venomous.count()"
   ]
  },
  {
   "cell_type": "code",
   "execution_count": null,
   "metadata": {},
   "outputs": [],
   "source": [
    "dg.venomous.sum()"
   ]
  },
  {
   "cell_type": "code",
   "execution_count": null,
   "metadata": {},
   "outputs": [],
   "source": [
    "dg.venomous.mean()"
   ]
  },
  {
   "cell_type": "markdown",
   "metadata": {
    "slideshow": {
     "slide_type": "slide"
    }
   },
   "source": [
    "En general, cuando se tienen preguntas simples estos métodos se encadenan para obtener una tabla de respuestas sencilla. \n",
    "\n",
    "Por supuesto, podemos utilizar más de una columna al mismo tiempo:"
   ]
  },
  {
   "cell_type": "code",
   "execution_count": null,
   "metadata": {},
   "outputs": [],
   "source": [
    "df_count = df.groupby([\"hair\",\"feathers\"]).animal_name.count()\n",
    "df_count"
   ]
  },
  {
   "cell_type": "markdown",
   "metadata": {
    "slideshow": {
     "slide_type": "slide"
    }
   },
   "source": [
    "Para tener una tabla \"regular\", donde se repitan los indices conviene usar nuevamente `reset_index`:"
   ]
  },
  {
   "cell_type": "code",
   "execution_count": null,
   "metadata": {
    "slideshow": {
     "slide_type": "-"
    }
   },
   "outputs": [],
   "source": [
    "df_count = df.groupby([\"hair\",\"feathers\"]).animal_name.count().reset_index()\n",
    "df_count"
   ]
  },
  {
   "cell_type": "markdown",
   "metadata": {
    "slideshow": {
     "slide_type": "-"
    }
   },
   "source": [
    "Lo anterior permite saber que en este dataset existen 38 animales sin pelo ni plumas, 20 animales sin pelo y con plumas, y 43 animales con pelo pero sin plumas. Pero no existen animales con pelo y con plumas."
   ]
  },
  {
   "cell_type": "markdown",
   "metadata": {
    "slideshow": {
     "slide_type": "slide"
    }
   },
   "source": [
    "Podemos complejizar ligeramente lo anterior si queremos realizar estadísticas sobre 2 columnas simultáneamente, por ejemplo, en lugar de simplemente contar los animales, queremos saber simultáneamente cuantos son venenosos y cuantos son predadores:"
   ]
  },
  {
   "cell_type": "code",
   "execution_count": null,
   "metadata": {},
   "outputs": [],
   "source": [
    "df_count = df.groupby([\"hair\",\"feathers\"])[[\"venomous\",\"predator\"]].sum().reset_index()\n",
    "df_count"
   ]
  },
  {
   "cell_type": "markdown",
   "metadata": {
    "slideshow": {
     "slide_type": "slide"
    }
   },
   "source": [
    "Sin embargo, en la notación anterior, resultaba necesario aplicar la misma operación (`sum`) a ambas columnas (\"venomous\" y \"predator\") y no podíamos aplicar funciones diferentes a cada columna."
   ]
  },
  {
   "cell_type": "markdown",
   "metadata": {
    "slideshow": {
     "slide_type": "slide"
    }
   },
   "source": [
    "Lo anterior se generaliza con el método `agg` que nos entrega plena responsabilidad de las columnas a utilizar y la función a aplicar. Pero a cambio tiene el costo que debemos explicitar un diccionario donde se pasan como llaves cada una de las columnas a analizar y como valores las funciones (de manera explícita) que se deben aplicar a la columna respectiva."
   ]
  },
  {
   "cell_type": "markdown",
   "metadata": {
    "slideshow": {
     "slide_type": "slide"
    }
   },
   "source": [
    "Por ejemplo, si quisiéramos calcular el promedio de pies de cada animal y contar los animales venenosos, podríamos realizarlo de la siguiente manera:"
   ]
  },
  {
   "cell_type": "code",
   "execution_count": null,
   "metadata": {},
   "outputs": [],
   "source": [
    "df_mixed = df.groupby([\"hair\",\"feathers\"]).agg({\"legs\":pd.np.mean,\n",
    "                                                \"venomous\":len}).reset_index()\n",
    "df_mixed"
   ]
  },
  {
   "cell_type": "markdown",
   "metadata": {
    "slideshow": {
     "slide_type": "slide"
    }
   },
   "source": [
    "Lo anterior resulta extredamente conveniente, puesto que permite definir funciones arbitrarias de agrupación. Por ejemplo, contar los valores únicos (distintos) en una agrupación, o incluso agrupar dichas combinaciones."
   ]
  },
  {
   "cell_type": "code",
   "execution_count": null,
   "metadata": {
    "slideshow": {
     "slide_type": "-"
    }
   },
   "outputs": [],
   "source": [
    "def my_custom_function(my_series):\n",
    "    # [1,2,2,4,2,10,9,10,2] -> regresa la cantidad de elementos distintos, en este caso, 5\n",
    "    my_value = my_series.nunique()\n",
    "    return my_value \n",
    "\n",
    "df_mixed = df.groupby([\"domestic\"]).agg({\"legs\":my_custom_function}).reset_index()\n",
    "df_mixed"
   ]
  },
  {
   "cell_type": "code",
   "execution_count": null,
   "metadata": {
    "slideshow": {
     "slide_type": "slide"
    }
   },
   "outputs": [],
   "source": [
    "def my_custom_function(my_series):\n",
    "    # [1,2,2,4,2,10,9,10,2] -> regresa la cantidad de elementos distintos, en este caso, 5\n",
    "    my_value = \", \".join([str(x) for x in sorted(my_series.unique())])\n",
    "    return my_value \n",
    "\n",
    "df_mixed = df.groupby([\"domestic\"]).agg({\"legs\":my_custom_function}).reset_index()\n",
    "df_mixed"
   ]
  },
  {
   "cell_type": "markdown",
   "metadata": {
    "slideshow": {
     "slide_type": "slide"
    }
   },
   "source": [
    "O donde se puedan concatenar de manera sencilla los nombres de los animales:"
   ]
  },
  {
   "cell_type": "code",
   "execution_count": null,
   "metadata": {},
   "outputs": [],
   "source": [
    "def my_custom_function(my_series):\n",
    "    # [1,2,2,4,2,10,9,10,2] -> regresa la cantidad de elementos distintos, en este caso, 5\n",
    "    my_value = \", \".join([str(x) for x in sorted(my_series.unique())])\n",
    "    return my_value \n",
    "\n",
    "df_mixed = df.groupby([\"domestic\",\"legs\"]).agg({\"animal_name\":my_custom_function,\n",
    "                                                \"type\":len}).reset_index()\n",
    "df_mixed"
   ]
  },
  {
   "cell_type": "markdown",
   "metadata": {
    "slideshow": {
     "slide_type": "slide"
    }
   },
   "source": [
    "**Pregunta:**\n",
    "\n",
    "¿Cómo podríamos obtener una tabla con el promedio aritmético, promedio armónico, desviación estándar y valores únicos de patas, para animales que contienen la letra \"e\" en su nombre y los que no contienen la letra \"e\" en su nombre, pero tienen más de 0 pies?"
   ]
  },
  {
   "cell_type": "code",
   "execution_count": null,
   "metadata": {
    "slideshow": {
     "slide_type": "slide"
    }
   },
   "outputs": [],
   "source": [
    "# Agregar columnas necesarias\n",
    "df[\"e_in_name\"] = df.animal_name.str.contains(\"e\")\n",
    "df[\"legs_arithmetic_mean\"] = df[\"legs\"]\n",
    "df[\"legs_std\"] = df[\"legs\"]\n",
    "df[\"legs_unique_values\"] = df[\"legs\"]\n",
    "df[\"legs_harmonic_mean\"] = df[\"legs\"]\n",
    "# Subselección\n",
    "m = df[\"legs\"]>0\n",
    "cols = [\"animal_name\", \"e_in_name\", \"legs_arithmetic_mean\", \"legs_std\",\"legs_unique_values\", \"legs_harmonic_mean\"]\n",
    "df_aux = df.loc[m, cols]"
   ]
  },
  {
   "cell_type": "code",
   "execution_count": null,
   "metadata": {
    "slideshow": {
     "slide_type": "slide"
    }
   },
   "outputs": [],
   "source": [
    "# Revisemos el dataframe\n",
    "df_aux.head(10)"
   ]
  },
  {
   "cell_type": "code",
   "execution_count": null,
   "metadata": {
    "slideshow": {
     "slide_type": "slide"
    }
   },
   "outputs": [],
   "source": [
    "# Crear las funciones complejas\n",
    "def harmonic_mean(x_arr):\n",
    "    \"\"\"\n",
    "    returns n / ( 1/ x[0] + ... + 1/ x[n-1]) \n",
    "    \"\"\"\n",
    "    n = x_arr.shape[0]\n",
    "    inv_x_arr = [1./xi for xi in x_arr]\n",
    "    return n / sum(inv_x_arr)\n",
    "\n",
    "unique_values = lambda x: \"[\" + \", \".join([str(x_i) for x_i in sorted(x.unique())]) + \"]\""
   ]
  },
  {
   "cell_type": "code",
   "execution_count": null,
   "metadata": {
    "slideshow": {
     "slide_type": "slide"
    }
   },
   "outputs": [],
   "source": [
    "df_aux.groupby([\"e_in_name\"]).agg({\n",
    "                                   \"legs_unique_values\":unique_values,\n",
    "                                   \"legs_arithmetic_mean\":pd.np.mean,\n",
    "                                   \"legs_std\":pd.np.std,\n",
    "                                   \"legs_harmonic_mean\":harmonic_mean,    \n",
    "})"
   ]
  }
 ],
 "metadata": {
  "celltoolbar": "Slideshow",
  "kernelspec": {
   "display_name": "Python 3",
   "language": "python",
   "name": "python3"
  },
  "language_info": {
   "codemirror_mode": {
    "name": "ipython",
    "version": 3
   },
   "file_extension": ".py",
   "mimetype": "text/x-python",
   "name": "python",
   "nbconvert_exporter": "python",
   "pygments_lexer": "ipython3",
   "version": "3.6.6"
  }
 },
 "nbformat": 4,
 "nbformat_minor": 2
}
